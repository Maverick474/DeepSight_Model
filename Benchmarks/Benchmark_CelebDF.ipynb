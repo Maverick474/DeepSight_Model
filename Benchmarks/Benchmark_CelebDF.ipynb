{
  "nbformat": 4,
  "nbformat_minor": 0,
  "metadata": {
    "colab": {
      "provenance": [],
      "gpuType": "T4"
    },
    "kernelspec": {
      "name": "python3",
      "display_name": "Python 3"
    },
    "language_info": {
      "name": "python"
    },
    "accelerator": "GPU"
  },
  "cells": [
    {
      "cell_type": "code",
      "source": [
        "!pip install face_recognition"
      ],
      "metadata": {
        "id": "NFw_OsKlup4G",
        "colab": {
          "base_uri": "https://localhost:8080/"
        },
        "outputId": "999ad5d0-4689-413c-dd3f-15ab9a474565"
      },
      "execution_count": 1,
      "outputs": [
        {
          "output_type": "stream",
          "name": "stdout",
          "text": [
            "Collecting face_recognition\n",
            "  Downloading face_recognition-1.3.0-py2.py3-none-any.whl.metadata (21 kB)\n",
            "Collecting face-recognition-models>=0.3.0 (from face_recognition)\n",
            "  Downloading face_recognition_models-0.3.0.tar.gz (100.1 MB)\n",
            "\u001b[2K     \u001b[90m━━━━━━━━━━━━━━━━━━━━━━━━━━━━━━━━━━━━━━━\u001b[0m \u001b[32m100.1/100.1 MB\u001b[0m \u001b[31m8.8 MB/s\u001b[0m eta \u001b[36m0:00:00\u001b[0m\n",
            "\u001b[?25h  Preparing metadata (setup.py) ... \u001b[?25l\u001b[?25hdone\n",
            "Requirement already satisfied: Click>=6.0 in /usr/local/lib/python3.11/dist-packages (from face_recognition) (8.2.1)\n",
            "Requirement already satisfied: dlib>=19.7 in /usr/local/lib/python3.11/dist-packages (from face_recognition) (19.24.6)\n",
            "Requirement already satisfied: numpy in /usr/local/lib/python3.11/dist-packages (from face_recognition) (2.0.2)\n",
            "Requirement already satisfied: Pillow in /usr/local/lib/python3.11/dist-packages (from face_recognition) (11.2.1)\n",
            "Downloading face_recognition-1.3.0-py2.py3-none-any.whl (15 kB)\n",
            "Building wheels for collected packages: face-recognition-models\n",
            "  Building wheel for face-recognition-models (setup.py) ... \u001b[?25l\u001b[?25hdone\n",
            "  Created wheel for face-recognition-models: filename=face_recognition_models-0.3.0-py2.py3-none-any.whl size=100566166 sha256=f9e817026c35c766eedabf9761baa36210dcc49ac5d06ff52919f233d376868d\n",
            "  Stored in directory: /root/.cache/pip/wheels/04/52/ec/9355da79c29f160b038a20c784db2803c2f9fa2c8a462c176a\n",
            "Successfully built face-recognition-models\n",
            "Installing collected packages: face-recognition-models, face_recognition\n",
            "Successfully installed face-recognition-models-0.3.0 face_recognition-1.3.0\n"
          ]
        }
      ]
    },
    {
      "cell_type": "code",
      "source": [
        "from google.colab import drive\n",
        "drive.mount('/content/drive')"
      ],
      "metadata": {
        "colab": {
          "base_uri": "https://localhost:8080/"
        },
        "id": "atf6AKzbm5H5",
        "outputId": "73f63f64-df73-4ee1-9c06-e733ec22d170"
      },
      "execution_count": 2,
      "outputs": [
        {
          "output_type": "stream",
          "name": "stdout",
          "text": [
            "Mounted at /content/drive\n"
          ]
        }
      ]
    },
    {
      "cell_type": "code",
      "execution_count": 3,
      "metadata": {
        "id": "kUimmkrnueQZ"
      },
      "outputs": [],
      "source": [
        "import torch\n",
        "import torchvision\n",
        "from torchvision import transforms\n",
        "from torch.utils.data import DataLoader\n",
        "from torch.utils.data.dataset import Dataset\n",
        "import os\n",
        "import numpy as np\n",
        "import cv2\n",
        "import matplotlib.pyplot as plt\n",
        "import face_recognition\n",
        "from sklearn.metrics import accuracy_score, f1_score, recall_score, precision_score, confusion_matrix, classification_report\n",
        "import time\n",
        "from tqdm import tqdm"
      ]
    },
    {
      "cell_type": "code",
      "source": [
        "# Set random seed for reproducibility\n",
        "torch.manual_seed(42)\n",
        "np.random.seed(42)"
      ],
      "metadata": {
        "id": "JoQ7mK4WvFiN"
      },
      "execution_count": 4,
      "outputs": []
    },
    {
      "cell_type": "code",
      "source": [
        "import torch.nn as nn\n",
        "from torchvision import models\n",
        "\n",
        "class AttentionLayer(nn.Module):\n",
        "    def __init__(self, hidden_dim, dropout=0.3):\n",
        "        super(AttentionLayer, self).__init__()\n",
        "        self.hidden_dim = hidden_dim\n",
        "        self.attention_net = nn.Sequential(\n",
        "            nn.Linear(hidden_dim, hidden_dim // 2),\n",
        "            nn.Tanh(),\n",
        "            nn.Dropout(dropout),\n",
        "            nn.Linear(hidden_dim // 2, 1, bias=False)\n",
        "        )\n",
        "\n",
        "    def forward(self, lstm_output):\n",
        "        attention_scores = self.attention_net(lstm_output)\n",
        "        attention_scores = torch.softmax(attention_scores, dim=1)\n",
        "        attended_output = torch.sum(lstm_output * attention_scores, dim=1)\n",
        "        return attended_output, attention_scores\n",
        "\n",
        "class Model(nn.Module):\n",
        "    def __init__(self, num_classes, latent_dim=2048, lstm_layers=1, hidden_dim=2048, bidirectional=False):\n",
        "        super(Model, self).__init__()\n",
        "        model = models.resnext50_32x4d(pretrained=True)\n",
        "        self.model = nn.Sequential(*list(model.children())[:-2])\n",
        "        self.lstm = nn.LSTM(latent_dim, hidden_dim, lstm_layers, bidirectional=bidirectional, dropout=0.3)\n",
        "        lstm_output_dim = hidden_dim * 2 if bidirectional else hidden_dim\n",
        "        self.attention = AttentionLayer(lstm_output_dim, dropout=0.3)\n",
        "        self.dp1 = nn.Dropout(0.5)\n",
        "        self.dp2 = nn.Dropout(0.4)\n",
        "        self.ln = nn.LayerNorm(lstm_output_dim)\n",
        "        self.classifier = nn.Sequential(\n",
        "            nn.Linear(lstm_output_dim, lstm_output_dim // 2),\n",
        "            nn.ReLU(),\n",
        "            nn.Dropout(0.3),\n",
        "            nn.Linear(lstm_output_dim // 2, num_classes)\n",
        "        )\n",
        "        self.avgpool = nn.AdaptiveAvgPool2d(1)\n",
        "\n",
        "    def forward(self, x):\n",
        "        batch_size, seq_length, c, h, w = x.shape\n",
        "        x = x.view(batch_size * seq_length, c, h, w)\n",
        "        fmap = self.model(x)\n",
        "        x = self.avgpool(fmap)\n",
        "        x = x.view(batch_size, seq_length, 2048)\n",
        "        x = self.dp1(x)\n",
        "        x_lstm, _ = self.lstm(x, None)\n",
        "        attended_output, attention_weights = self.attention(x_lstm)\n",
        "        attended_output = self.ln(attended_output)\n",
        "        attended_output = self.dp2(attended_output)\n",
        "        output = self.classifier(attended_output)\n",
        "        return fmap, output"
      ],
      "metadata": {
        "id": "-LDH0Y_qvKjO"
      },
      "execution_count": 5,
      "outputs": []
    },
    {
      "cell_type": "code",
      "source": [
        "class validation_dataset(Dataset):\n",
        "    def __init__(self, root_dir, transform=None, sequence_length=40):\n",
        "        self.root_dir = root_dir\n",
        "        self.sequence_length = sequence_length\n",
        "        self.transform = transform\n",
        "\n",
        "        self.video_paths = []\n",
        "        self.labels = []\n",
        "\n",
        "        # Supported video formats\n",
        "        video_formats = ('.mp4', '.avi', '.mov', '.mkv', '.MP4', '.AVI', '.MOV', '.MKV')\n",
        "\n",
        "        # Process real videos\n",
        "        real_path = os.path.join(root_dir, 'real')\n",
        "        real_videos = []\n",
        "        if os.path.exists(real_path) and os.path.isdir(real_path):\n",
        "            for root, _, files in os.walk(real_path):\n",
        "                for video_file in files:\n",
        "                    if video_file.endswith(video_formats):\n",
        "                        full_path = os.path.join(root, video_file)\n",
        "                        real_videos.append(full_path)\n",
        "                        self.labels.append(1)  # Real label = 1\n",
        "        else:\n",
        "            print(f\"Warning: Real video directory not found at {real_path}\")\n",
        "\n",
        "        # Process fake videos\n",
        "        fake_path = os.path.join(root_dir, 'fake')\n",
        "        fake_videos = []\n",
        "        if os.path.exists(fake_path) and os.path.isdir(fake_path):\n",
        "            for root, _, files in os.walk(fake_path):\n",
        "                for video_file in files:\n",
        "                    if video_file.endswith(video_formats):\n",
        "                        full_path = os.path.join(root, video_file)\n",
        "                        fake_videos.append(full_path)\n",
        "                        self.labels.append(0)  # Fake label = 0\n",
        "        else:\n",
        "            print(f\"Warning: Fake video directory not found at {fake_path}\")\n",
        "\n",
        "        # Combine all videos\n",
        "        self.video_paths = real_videos + fake_videos\n",
        "        num_real = len(real_videos)\n",
        "        num_fake = len(fake_videos)\n",
        "\n",
        "        print(f\"Found {len(self.video_paths)} videos: {num_real} real, {num_fake} fake\")\n",
        "        print(f\"First real video: {real_videos[0] if real_videos else 'None'}\")\n",
        "        print(f\"First fake video: {fake_videos[0] if fake_videos else 'None'}\")\n",
        "\n",
        "    def __len__(self):\n",
        "        return len(self.video_paths)\n",
        "\n",
        "    def __getitem__(self, idx):\n",
        "        video_path = self.video_paths[idx]\n",
        "        label = self.labels[idx]\n",
        "        frames = self.extract_frames(video_path)\n",
        "\n",
        "        # Pad if we don't have enough frames\n",
        "        if len(frames) < self.sequence_length:\n",
        "            last_frame = frames[-1] if frames else torch.zeros(3, im_size, im_size)\n",
        "            while len(frames) < self.sequence_length:\n",
        "                frames.append(last_frame)\n",
        "\n",
        "        # Convert list to tensor [seq_length, C, H, W]\n",
        "        frames = torch.stack(frames)\n",
        "        return frames, label, video_path  # Return video path for error tracking\n",
        "\n",
        "    def extract_frames(self, video_path):\n",
        "        vidObj = cv2.VideoCapture(video_path)\n",
        "        frames = []\n",
        "        total_frames = int(vidObj.get(cv2.CAP_PROP_FRAME_COUNT))\n",
        "        a = max(1, int(total_frames / self.sequence_length))\n",
        "        first_frame = np.random.randint(0, a) if a > 1 else 0\n",
        "\n",
        "        count = 0\n",
        "        success, image = vidObj.read()\n",
        "        while success:\n",
        "            if count % a == first_frame:\n",
        "                try:\n",
        "                    # Convert BGR to RGB\n",
        "                    image_rgb = cv2.cvtColor(image, cv2.COLOR_BGR2RGB)\n",
        "\n",
        "                    # Face detection and cropping\n",
        "                    faces = face_recognition.face_locations(image_rgb)\n",
        "                    if faces:\n",
        "                        top, right, bottom, left = faces[0]\n",
        "                        # Expand the face area slightly\n",
        "                        margin = int((bottom - top) * 0.1)\n",
        "                        top = max(0, top - margin)\n",
        "                        bottom = min(image_rgb.shape[0], bottom + margin)\n",
        "                        left = max(0, left - margin)\n",
        "                        right = min(image_rgb.shape[1], right + margin)\n",
        "                        image_cropped = image_rgb[top:bottom, left:right]\n",
        "                    else:\n",
        "                        image_cropped = image_rgb\n",
        "\n",
        "                    # Apply transformations\n",
        "                    if self.transform:\n",
        "                        image_t = self.transform(image_cropped)\n",
        "                        frames.append(image_t)\n",
        "                except Exception as e:\n",
        "                    print(f\"\\nError processing frame in {os.path.basename(video_path)}: {e}\")\n",
        "\n",
        "            if len(frames) >= self.sequence_length:\n",
        "                break\n",
        "\n",
        "            count += 1\n",
        "            success, image = vidObj.read()\n",
        "\n",
        "        vidObj.release()\n",
        "        return frames"
      ],
      "metadata": {
        "id": "LIYuwRHzviDn"
      },
      "execution_count": 6,
      "outputs": []
    },
    {
      "cell_type": "code",
      "source": [
        "# Configuration\n",
        "im_size = 112\n",
        "sequence_length = 40\n",
        "batch_size = 8\n",
        "num_workers = 4  # For data loading\n",
        "\n",
        "# Transformations\n",
        "mean = [0.485, 0.456, 0.406]\n",
        "std = [0.229, 0.224, 0.225]\n",
        "train_transforms = transforms.Compose([\n",
        "    transforms.ToPILImage(),\n",
        "    transforms.Resize((im_size, im_size)),\n",
        "    transforms.ToTensor(),\n",
        "    transforms.Normalize(mean, std)\n",
        "])\n",
        "\n",
        "# Initialize dataset and dataloader\n",
        "dataset_path = \"/content/drive/MyDrive/celeb_DF\"  # UPDATE THIS PATH\n",
        "print(f\"Loading dataset from: {dataset_path}\")\n",
        "dataset = validation_dataset(\n",
        "    root_dir=dataset_path,\n",
        "    transform=train_transforms,\n",
        "    sequence_length=sequence_length\n",
        ")\n",
        "\n",
        "dataloader = DataLoader(\n",
        "    dataset,\n",
        "    batch_size=batch_size,\n",
        "    shuffle=False,\n",
        "    num_workers=num_workers,\n",
        "    pin_memory=True\n",
        ")\n"
      ],
      "metadata": {
        "colab": {
          "base_uri": "https://localhost:8080/"
        },
        "id": "Kx0dprkQvnx9",
        "outputId": "06fe5830-0329-4bf3-8179-d1ba87969766"
      },
      "execution_count": 8,
      "outputs": [
        {
          "output_type": "stream",
          "name": "stdout",
          "text": [
            "Loading dataset from: /content/drive/MyDrive/celeb_DF\n",
            "Found 1000 videos: 500 real, 500 fake\n",
            "First real video: /content/drive/MyDrive/celeb_DF/real/engsjjoxfe.mp4\n",
            "First fake video: /content/drive/MyDrive/celeb_DF/fake/achdeirhym.mp4\n"
          ]
        }
      ]
    },
    {
      "cell_type": "code",
      "source": [
        "# Load model\n",
        "device = torch.device(\"cuda\" if torch.cuda.is_available() else \"cpu\")\n",
        "print(f\"Using device: {device}\")\n",
        "model = Model(num_classes=2).to(device)\n",
        "model_path = '/content/drive/MyDrive/models/40_frames.pt'\n",
        "print(f\"Loading model from: {model_path}\")\n",
        "model.load_state_dict(torch.load(model_path))\n",
        "model.eval()\n",
        "print(\"Model loaded successfully\")\n",
        "\n",
        "# Evaluation\n",
        "all_preds = []\n",
        "all_labels = []\n",
        "all_paths = []  # To track problematic videos\n",
        "softmax = nn.Softmax(dim=1)\n",
        "\n",
        "total_videos = len(dataset)\n",
        "print(f\"Starting evaluation of {total_videos} videos...\")\n",
        "\n",
        "# Create tqdm progress bar\n",
        "progress_bar = tqdm(total=total_videos, desc=\"Evaluating Videos\", unit=\"video\")\n",
        "\n",
        "start_time = time.time()\n",
        "with torch.no_grad():\n",
        "    for inputs, labels, paths in dataloader:\n",
        "        try:\n",
        "            inputs = inputs.to(device)\n",
        "            labels = labels.to(device)\n",
        "\n",
        "            # Forward pass\n",
        "            _, outputs = model(inputs)\n",
        "            probs = softmax(outputs)\n",
        "            preds = torch.argmax(probs, dim=1)\n",
        "\n",
        "            # Store results\n",
        "            all_preds.extend(preds.cpu().numpy())\n",
        "            all_labels.extend(labels.cpu().numpy())\n",
        "            all_paths.extend(paths)\n",
        "\n",
        "            # Update progress bar\n",
        "            progress_bar.update(len(inputs))\n",
        "\n",
        "        except Exception as e:\n",
        "            print(f\"\\nError processing batch: {e}\")\n",
        "            # Add placeholders for failed batch\n",
        "            all_preds.extend([-1] * len(paths))\n",
        "            all_labels.extend([-1] * len(paths))\n",
        "            all_paths.extend(paths)\n",
        "            progress_bar.update(len(inputs))\n",
        "\n",
        "progress_bar.close()\n",
        "elapsed_time = time.time() - start_time\n",
        "print(f\"\\nEvaluation completed in {elapsed_time:.2f} seconds\")"
      ],
      "metadata": {
        "colab": {
          "base_uri": "https://localhost:8080/"
        },
        "id": "9JGfOzGAwXjV",
        "outputId": "69c9ba79-a8c0-4ebe-ee3f-8d91c016f623"
      },
      "execution_count": 12,
      "outputs": [
        {
          "output_type": "stream",
          "name": "stdout",
          "text": [
            "Using device: cuda\n"
          ]
        },
        {
          "output_type": "stream",
          "name": "stderr",
          "text": [
            "/usr/local/lib/python3.11/dist-packages/torchvision/models/_utils.py:208: UserWarning: The parameter 'pretrained' is deprecated since 0.13 and may be removed in the future, please use 'weights' instead.\n",
            "  warnings.warn(\n",
            "/usr/local/lib/python3.11/dist-packages/torchvision/models/_utils.py:223: UserWarning: Arguments other than a weight enum or `None` for 'weights' are deprecated since 0.13 and may be removed in the future. The current behavior is equivalent to passing `weights=ResNeXt50_32X4D_Weights.IMAGENET1K_V1`. You can also use `weights=ResNeXt50_32X4D_Weights.DEFAULT` to get the most up-to-date weights.\n",
            "  warnings.warn(msg)\n",
            "/usr/local/lib/python3.11/dist-packages/torch/nn/modules/rnn.py:123: UserWarning: dropout option adds dropout after all but last recurrent layer, so non-zero dropout expects num_layers greater than 1, but got dropout=0.3 and num_layers=1\n",
            "  warnings.warn(\n"
          ]
        },
        {
          "output_type": "stream",
          "name": "stdout",
          "text": [
            "Loading model from: /content/drive/MyDrive/models/40_frames.pt\n",
            "Model loaded successfully\n",
            "Starting evaluation of 1000 videos...\n"
          ]
        },
        {
          "output_type": "stream",
          "name": "stderr",
          "text": [
            "\rEvaluating Videos:   0%|          | 0/1000 [00:00<?, ?video/s]/usr/local/lib/python3.11/dist-packages/torch/utils/data/dataloader.py:624: UserWarning: This DataLoader will create 4 worker processes in total. Our suggested max number of worker in current system is 2, which is smaller than what this DataLoader is going to create. Please be aware that excessive worker creation might get DataLoader running slow or even freeze, lower the worker number to avoid potential slowness/freeze if necessary.\n",
            "  warnings.warn(\n",
            "Evaluating Videos: 100%|██████████| 1000/1000 [06:09<00:00,  2.71video/s]"
          ]
        },
        {
          "output_type": "stream",
          "name": "stdout",
          "text": [
            "\n",
            "Evaluation completed in 369.03 seconds\n"
          ]
        },
        {
          "output_type": "stream",
          "name": "stderr",
          "text": [
            "\n"
          ]
        }
      ]
    },
    {
      "cell_type": "code",
      "source": [
        "# Calculate metrics\n",
        "accuracy = accuracy_score(all_labels, all_preds)\n",
        "f1 = f1_score(all_labels, all_preds)\n",
        "recall = recall_score(all_labels, all_preds)\n",
        "precision = precision_score(all_labels, all_preds)\n",
        "conf_matrix = confusion_matrix(all_labels, all_preds)\n",
        "class_report = classification_report(all_labels, all_preds, target_names=['Fake', 'Real'])\n",
        "\n",
        "# Print results\n",
        "print(\"\\n\" + \"=\"*50)\n",
        "print(f\"Total Videos Evaluated: {total_videos}\")\n",
        "print(f\"Accuracy: {accuracy:.4f}\")\n",
        "print(f\"F1 Score: {f1:.4f}\")\n",
        "print(f\"Recall: {recall:.4f}\")\n",
        "print(f\"Precision: {precision:.4f}\")\n",
        "print(\"\\nConfusion Matrix:\")\n",
        "print(conf_matrix)\n",
        "print(\"\\nClassification Report:\")\n",
        "print(class_report)\n",
        "print(\"=\"*50)"
      ],
      "metadata": {
        "colab": {
          "base_uri": "https://localhost:8080/"
        },
        "id": "j2OYgcVyy61d",
        "outputId": "236f76cc-5c22-4377-b7be-71de781b1c98"
      },
      "execution_count": 15,
      "outputs": [
        {
          "output_type": "stream",
          "name": "stdout",
          "text": [
            "\n",
            "==================================================\n",
            "Total Videos Evaluated: 1000\n",
            "Accuracy: 0.8930\n",
            "F1 Score: 0.8905\n",
            "Recall: 0.8700\n",
            "Precision: 0.9119\n",
            "\n",
            "Confusion Matrix:\n",
            "[[458  42]\n",
            " [ 65 435]]\n",
            "\n",
            "Classification Report:\n",
            "              precision    recall  f1-score   support\n",
            "\n",
            "        Fake       0.88      0.92      0.90       500\n",
            "        Real       0.91      0.87      0.89       500\n",
            "\n",
            "    accuracy                           0.89      1000\n",
            "   macro avg       0.89      0.89      0.89      1000\n",
            "weighted avg       0.89      0.89      0.89      1000\n",
            "\n",
            "==================================================\n"
          ]
        }
      ]
    },
    {
      "cell_type": "code",
      "source": [
        "import seaborn as sns\n",
        "#Visulazing the confusion matrix\n",
        "\n",
        "# Confusion matrix values\n",
        "TP = 455\n",
        "FP = 45\n",
        "FN = 64\n",
        "TN = 436\n",
        "\n",
        "\n",
        "# Matrix and cell labels\n",
        "matrix = np.array([[TP, FP],\n",
        "                   [FN, TN]])\n",
        "\n",
        "labels = np.array([\n",
        "    [f\"TP = {TP}\", f\"FP = {FP}\"],\n",
        "    [f\"FN = {FN}\", f\"TN = {TN}\"]\n",
        "])\n",
        "\n",
        "\n",
        "plt.figure(figsize=(8, 6))\n",
        "ax = sns.heatmap(matrix, annot=labels, fmt=\"\", cmap=\"Blues\", cbar=False,\n",
        "                 xticklabels=[\"Predicted: Positive\", \"Predicted: Negative\"],\n",
        "                 yticklabels=[\"Actual: Positive\", \"Actual: Negative\"])\n",
        "\n",
        "plt.title(\"Confusion Matrix with Metrics\", fontsize=14)\n",
        "plt.xlabel(\"Predicted Label\")\n",
        "plt.ylabel(\"Actual Label\")\n",
        "\n",
        "plt.tight_layout()\n",
        "plt.show()\n"
      ],
      "metadata": {
        "colab": {
          "base_uri": "https://localhost:8080/",
          "height": 607
        },
        "id": "MmOg80SdKlqi",
        "outputId": "f48cfed1-dc1f-4492-a1d9-c5481e48a520"
      },
      "execution_count": null,
      "outputs": [
        {
          "output_type": "display_data",
          "data": {
            "text/plain": [
              "<Figure size 800x600 with 1 Axes>"
            ],
            "image/png": "[encoded data removed]"
          },
          "metadata": {}
        }
      ]
    }
  ]
}